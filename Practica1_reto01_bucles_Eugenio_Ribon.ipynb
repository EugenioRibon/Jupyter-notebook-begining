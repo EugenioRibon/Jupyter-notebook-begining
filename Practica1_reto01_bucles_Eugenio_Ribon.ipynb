{
 "cells": [
  {
   "cell_type": "markdown",
   "metadata": {},
   "source": [
    "![Logo iMAT Retos](logo_retos.jpg)\n",
    "\n",
    "# Reto 1. Bucles (Tema 3)\n",
    "\n",
    "Crear los retos que se describen a continuación."
   ]
  },
  {
   "cell_type": "markdown",
   "metadata": {},
   "source": [
    "**Objetivos**: \n",
    "- Dominar el almacenamiento de datos en variables.\n",
    "- Dominar las estructuras de control if y while."
   ]
  },
  {
   "cell_type": "markdown",
   "metadata": {},
   "source": [
    "Se programarán las soluciones en este mismo Notebook en la celda que se suministra al efecto.\n",
    "\n",
    "**IMPORTANTE**\n",
    "\n",
    "Cuando trabajamos con bucles es muy fácil crear bucles infinitos, es decir, bucles que no terminan nunca porque no se llega a cumplir la condición de parada. La forma de parar la ejecución infinita de una celda es pulsando en el botón de parar ejecución (en VSC a la izquierda de la celda y en Jupyter en la parte superior)."
   ]
  },
  {
   "cell_type": "markdown",
   "metadata": {},
   "source": [
    "## Cálculo del número Pi\n",
    "\n",
    "La serie de **Nilakantha** es una serie infinita que se utiliza para la aproximación del número Pi:\n",
    "\n",
    "$\\pi = 3 + \\frac{4}{2·3·4} - \\frac{4}{4·5·6} + \\frac{4}{6·7·8} - \\frac{4}{8·9·10} + \\frac{4}{10·11·12} - \\frac{4}{12·13·14} ...$\n",
    "\n",
    "El tema de series será visto ampliamente en la asignatura de Análisis Matemático.\n",
    "\n",
    "**Solución en las celdas siguientes a cada apartado**\n",
    "\n",
    "**Se pide**\n",
    "\n",
    "a) Copia la serie y genera el número Pi manualmente con los **2** primeros términos mediante una operación artimética Python."
   ]
  },
  {
   "cell_type": "code",
   "execution_count": 1,
   "metadata": {},
   "outputs": [
    {
     "name": "stdout",
     "output_type": "stream",
     "text": [
      "3.1333333333333333\n"
     ]
    }
   ],
   "source": [
    "numerador = 4\n",
    "denominador1 = 2 \n",
    "denominador2 = 3 \n",
    "denominador3 = 4\n",
    "denominador4 = 5\n",
    "denominador5 = 6\n",
    "pi = 3 + numerador / (denominador1 * denominador2 * denominador3) - numerador / (denominador3 * denominador4 * denominador5)\n",
    "\n",
    "print (pi)\n",
    "\n"
   ]
  },
  {
   "cell_type": "markdown",
   "metadata": {},
   "source": [
    "b) Copia la serie y genera el número Pi manualmente con los **4** primeros términos mediante una operación artimética Python."
   ]
  },
  {
   "cell_type": "code",
   "execution_count": 4,
   "metadata": {},
   "outputs": [
    {
     "name": "stdout",
     "output_type": "stream",
     "text": [
      "3.1396825396825396\n"
     ]
    }
   ],
   "source": [
    "numerador = 4\n",
    "denominador1 = 2 \n",
    "denominador2 = 3 \n",
    "denominador3 = 4\n",
    "denominador4 = 5\n",
    "denominador5 = 6\n",
    "denominador6 = 7\n",
    "denominador7 = 8\n",
    "denominador8 = 9\n",
    "denominador9 = 10\n",
    "\n",
    "pi = 3 + numerador / (denominador1 * denominador2 * denominador3) - numerador / \\\n",
    "(denominador3 * denominador4 * denominador5) + numerador / (denominador5 * denominador6 * denominador7) \\\n",
    "- numerador / (denominador7 * denominador8 * denominador9)\n",
    "\n",
    "print (pi)"
   ]
  },
  {
   "cell_type": "markdown",
   "metadata": {},
   "source": [
    "c) Copia la serie y genera el número Pi manualmente con los **6** primeros términos mediante una operación artimética Python."
   ]
  },
  {
   "cell_type": "code",
   "execution_count": 5,
   "metadata": {},
   "outputs": [
    {
     "name": "stdout",
     "output_type": "stream",
     "text": [
      "3.1408813408813407\n"
     ]
    }
   ],
   "source": [
    "numerador = 4\n",
    "denominador1 = 2 \n",
    "denominador2 = 3 \n",
    "denominador3 = 4\n",
    "denominador4 = 5\n",
    "denominador5 = 6\n",
    "denominador6 = 7\n",
    "denominador7 = 8\n",
    "denominador8 = 9\n",
    "denominador9 = 10\n",
    "denominador10 = 11\n",
    "denominador11 = 12\n",
    "denominador12 = 13\n",
    "denominador13 = 14\n",
    "\n",
    "pi = 3 + numerador / (denominador1 * denominador2 * denominador3) - numerador / \\\n",
    "(denominador3 * denominador4 * denominador5) + numerador / (denominador5 * denominador6 * denominador7) \\\n",
    "- numerador / (denominador7 * denominador8 * denominador9) + numerador / (denominador9 * denominador10 * denominador11) \\\n",
    "- numerador / (denominador11 * denominador12 * denominador13)\n",
    "\n",
    "print (pi)"
   ]
  },
  {
   "cell_type": "markdown",
   "metadata": {},
   "source": [
    "d) Implementa un programa que genere la serie mediante un bucle realizando las iteraciones que el usuario desee (inicializando la variable solamente, sin pedir por teclado). A continuación ve comprobando que el resultado coincide con el de los términos elegidos anteriormente. ¿Cuál es el número Pi obtenido después de 20 iteraciones?"
   ]
  },
  {
   "cell_type": "code",
   "execution_count": 1,
   "metadata": {},
   "outputs": [
    {
     "name": "stdout",
     "output_type": "stream",
     "text": [
      "Eliga el numero de terminos de pi que quiera: 99999\n",
      "3.141592653589787\n"
     ]
    }
   ],
   "source": [
    "numerador = 4\n",
    "pi = 3\n",
    "denominador1 = 2 \n",
    "denominador2 = 3 \n",
    "denominador3 = 4\n",
    "n_terminos = int(input(\"Eliga el numero de terminos de pi que quiera: \")) + 2\n",
    "contador = 2\n",
    "\n",
    "while contador < n_terminos:\n",
    "    if (contador % 2) == 0:\n",
    "        pi = pi + numerador / (denominador1 * denominador2 * denominador3)\n",
    "        \n",
    "    else:\n",
    "        pi = pi - numerador / (denominador1 * denominador2 * denominador3)\n",
    "        \n",
    "    denominador1 += 2\n",
    "    denominador2 += 2\n",
    "    denominador3 += 2\n",
    "    contador += 1\n",
    "    \n",
    "print (pi)\n",
    "        "
   ]
  },
  {
   "cell_type": "code",
   "execution_count": null,
   "metadata": {},
   "outputs": [],
   "source": []
  }
 ],
 "metadata": {
  "kernelspec": {
   "display_name": "Python 3 (ipykernel)",
   "language": "python",
   "name": "python3"
  },
  "language_info": {
   "codemirror_mode": {
    "name": "ipython",
    "version": 3
   },
   "file_extension": ".py",
   "mimetype": "text/x-python",
   "name": "python",
   "nbconvert_exporter": "python",
   "pygments_lexer": "ipython3",
   "version": "3.9.12"
  },
  "vscode": {
   "interpreter": {
    "hash": "03f549537fa19b43efbf5aa4d6467b94388b966112c368cc66a2484d89a4a6bd"
   }
  }
 },
 "nbformat": 4,
 "nbformat_minor": 4
}
