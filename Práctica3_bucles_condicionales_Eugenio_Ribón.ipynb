{
 "cells": [
  {
   "cell_type": "markdown",
   "metadata": {},
   "source": [
    "# 3. Trabajando con condicionales y bucles (Tema 3)\n",
    "## Enunciado de la práctica"
   ]
  },
  {
   "cell_type": "markdown",
   "metadata": {},
   "source": [
    "**Objetivos**: \n",
    "- Dominar el almacenamiento de datos en variables.\n",
    "- Dominar las estructuras de control if y while."
   ]
  },
  {
   "cell_type": "markdown",
   "metadata": {},
   "source": [
    "Se programarán las soluciones en este mismo Notebook en la celda que se suministra al efecto.\n",
    "\n",
    "**IMPORTANTE**\n",
    "\n",
    "Cuando trabajamos con bucles es muy fácil crear bucles infinitos, es decir, bucles que no terminan nunca porque no se llega a cumplir la condición de parada. La forma de parar la ejecución infinita de una celda es pulsando en el botón de parar ejecución (en VSC a la izquierda de la celda y en Jupyter en la parte superior)."
   ]
  },
  {
   "cell_type": "markdown",
   "metadata": {},
   "source": [
    "### Programa #1. Bucles nivel básico\n",
    "\n",
    "Calcular el factorial y el sumatorio de un número dado.\n",
    "\n",
    "```\n",
    "numero = 5\n",
    "\n",
    "El sumatorio de 5 es 15\n",
    "El factorial de 5 es 120\n",
    "```\n",
    "\n",
    "**Solución en la celda siguiente**"
   ]
  },
  {
   "cell_type": "code",
   "execution_count": 60,
   "metadata": {},
   "outputs": [
    {
     "name": "stdout",
     "output_type": "stream",
     "text": [
      "Elige un número: 7\n",
      "El sumatorio de 7 es: 28\n",
      "El factorial de 7 es: 5040\n"
     ]
    }
   ],
   "source": [
    "numero = int(input(\"Elige un número: \")) #primero se pide un numero y se cambia de tipo con int\n",
    "contador1 = 0\n",
    "sumatorio = 0\n",
    "factorial = 1\n",
    "contador2 = numero\n",
    "import time\n",
    "\n",
    "while contador1 < numero: #aqui se calcula el sumatorio con una variable y el numero obtenido\n",
    "    contador1 += 1\n",
    "    sumatorio += contador1\n",
    "    \n",
    "while contador2 > 1: #aqui se calcula el factorial con una variable distinta pero el mismo número\n",
    "    factorial *= contador2\n",
    "    contador2 -= 1\n",
    "    \n",
    "print (f\"El sumatorio de {numero} es: {sumatorio}\") #luego se muestran ambas\n",
    "print (f\"El factorial de {numero} es: {factorial}\")\n",
    "    \n",
    "\n"
   ]
  },
  {
   "cell_type": "markdown",
   "metadata": {},
   "source": [
    "### Programa #2a. Bucles nivel medio\n",
    "\n",
    "Mostrar una lista de números sucesivos del 1 al 10 y del 10 al 1 con dos bucles while.\n",
    "```\n",
    "1, 2,...., 9, 10, 9, ..., 2, 1\n",
    "```\n",
    "\n",
    "**Solución en la celda siguiente**"
   ]
  },
  {
   "cell_type": "code",
   "execution_count": 61,
   "metadata": {},
   "outputs": [
    {
     "name": "stdout",
     "output_type": "stream",
     "text": [
      "1\n",
      "2\n",
      "3\n",
      "4\n",
      "5\n",
      "6\n",
      "7\n",
      "8\n",
      "9\n",
      "10\n",
      "9\n",
      "8\n",
      "7\n",
      "6\n",
      "5\n",
      "4\n",
      "3\n",
      "2\n",
      "1\n"
     ]
    },
    {
     "data": {
      "text/plain": [
       "'Este código aprovecha varios while para hacer una sucesión. En el segundo bucle he puesto una variable diferente\\npara que no diera error'"
      ]
     },
     "execution_count": 61,
     "metadata": {},
     "output_type": "execute_result"
    }
   ],
   "source": [
    "import time\n",
    "numero = 1\n",
    "numero2 = 9\n",
    "\n",
    "while numero < 11:\n",
    "    print (numero)\n",
    "    numero += 1\n",
    "    time.sleep(0.5)\n",
    "    \n",
    "while 10 < numero < 20:\n",
    "    print (numero2)\n",
    "    numero += 1\n",
    "    numero2 -= 1\n",
    "    time.sleep(0.5)\n",
    "    \n",
    "\"\"\"Este código aprovecha varios while para hacer una sucesión. En el segundo bucle he puesto una variable diferente\n",
    "para que no diera error\"\"\""
   ]
  },
  {
   "cell_type": "markdown",
   "metadata": {},
   "source": [
    "### Programa #2b. Bucles nivel avanzado\n",
    "\n",
    "Mostrar una cuenta de números del 1 al 10 y del 10 al 1 **con un solo bucle while**.\n",
    "```\n",
    "1, 2,...., 9, 10, 9, ..., 2, 1\n",
    "```\n",
    "\n",
    "**Solución en la celda siguiente**"
   ]
  },
  {
   "cell_type": "code",
   "execution_count": 5,
   "metadata": {},
   "outputs": [
    {
     "name": "stdout",
     "output_type": "stream",
     "text": [
      "1   2   3   4   5   6   7   8   9   10   9   8   7   6   5   4   3   2   1   "
     ]
    }
   ],
   "source": [
    "numero = 1\n",
    "numero2 = 9\n",
    "\n",
    "while (numero > 0):\n",
    "    if (numero != 11):\n",
    "        print(numero, \" \", end=\" \")\n",
    "        numero += 1\n",
    "        \n",
    "    else:\n",
    "        print (numero2, \" \", end=\" \") \n",
    "        numero2 -= 1\n",
    "        if numero2 == 0:\n",
    "            numero = 0\n",
    "        \n",
    "        \n",
    "\n",
    "    "
   ]
  },
  {
   "cell_type": "markdown",
   "metadata": {},
   "source": [
    "### Programa #3. Condiciones anidadas\n",
    "\n",
    "Crear un sistema experto (principios de la IA) basado en reglas para que en función de los datos de entrada del usuario, diagnóstiquemos la enfermedad de un paciente. Se implementará este problema utilizando condicionales anidados.\n",
    "\n",
    "Primero se le preguntará por teclado si tiene fiebre el paciente. Si tiene fiebre, habrá que saber si le duele la garganta. Si la respuesta es cierta, se le preguntará otra vez si posee alguna dificultad respiratoria. Si fuese así, tendrá COVID, si no, una infección de garganta. Si no le duele la garganta habrá que preguntarle por la tos. Si tose, tendrá bronquitis y si no, una infección desonocida. Si no tiene fiebre, estará sano como un roble. :) \n",
    "\n",
    "**Entrada del programa**\n",
    "\n",
    "Una sugerencia puede ser esta:\n",
    "```\n",
    "\"¿Tienes dolor de garganta? (S/N)\"\n",
    "```\n",
    "\n",
    "**Salida del programa**\n",
    "```\n",
    "El Dr. IA te diagnostica:  COVID\n",
    "````\n",
    "\n",
    "**Realizar el diagrama de flujo antes de implementar este programa**\n",
    "\n",
    "**Solución en la celda siguiente**"
   ]
  },
  {
   "cell_type": "code",
   "execution_count": 64,
   "metadata": {},
   "outputs": [
    {
     "name": "stdout",
     "output_type": "stream",
     "text": [
      "Buenos dias, soy el gato IA. ¡Veamos que te pasa!\n",
      "¿Tienes fiebre? (si/no) si\n",
      "¿Te duele la garganta? (si/no) si\n",
      "¿Tienes alguna dificultad respiratoria? (si/no) si\n",
      "El Dr. IA te diagnostica: Covid\n"
     ]
    }
   ],
   "source": [
    "import time \n",
    "\"\"\"Para este programa he trabajando con condicionales anidados, usando distintas variables en función de la ruta \n",
    "que seguía el programa.\"\"\"\n",
    "\n",
    "print (\"Buenos dias, soy el gato IA. ¡Veamos que te pasa!\")\n",
    "time.sleep (1)\n",
    "fiebre = input(\"¿Tienes fiebre? (si/no) \")\n",
    "\n",
    "if fiebre == \"si\":\n",
    "    time.sleep(1)\n",
    "    dolor_garganta = input(\"¿Te duele la garganta? (si/no) \")\n",
    "    if dolor_garganta == \"si\":\n",
    "        time.sleep(1)\n",
    "        dificultad_respiratoria = input(\"¿Tienes alguna dificultad respiratoria? (si/no) \") \n",
    "        \n",
    "        if dificultad_respiratoria == \"si\":\n",
    "            time.sleep(1)\n",
    "            print(\"El Dr. IA te diagnostica: Covid\")\n",
    "            \n",
    "        else: \n",
    "            time.sleep(1)\n",
    "            print (\"El Dr. IA te diagnostica: Infección de garganta\")\n",
    "            \n",
    "        \n",
    "    else:\n",
    "        tos = input (\"¿Tienes tos? (si/no) \")\n",
    "        time.sleep(1)\n",
    "        \n",
    "        if tos == \"si\":\n",
    "            print (\"El Dr. IA te diagnostica: Bronquitis\")\n",
    "            \n",
    "        else: \n",
    "            print (\"El Dr. IA te diagnostica: Una enfermedad desconocida ¡Suerte!\")\n",
    "\n",
    "else: \n",
    "    print (\"Estas sano como un roble. ¡Vamonos de fiesta!\")\n",
    "    time.sleep(1)\n",
    "\n",
    "    \n"
   ]
  },
  {
   "cell_type": "markdown",
   "metadata": {},
   "source": [
    "### Programa #4. Cálculo de una función\n",
    "\n",
    "Dada la siguiente función, calcular los valores de ésta en todos los números enteros del intervalo [-5,5] y mostrarlos por pantalla, como se sugiere a continuación.\n",
    "\n",
    "$f(x) = x^3 + 2x^2 - 3x +7$\n",
    "\n",
    "**Salida del programa**\n",
    "\n",
    "```\n",
    "( -5 ,  -53 )\n",
    "( -4 ,  -13 )\n",
    "( -3 ,  7 )\n",
    "( -2 ,  13 )\n",
    "( -1 ,  11 )\n",
    "( 0 ,  7 )\n",
    "( 1 ,  7 )\n",
    "( 2 ,  17 )\n",
    "( 3 ,  43 )\n",
    "( 4 ,  91 )\n",
    "( 5 ,  167 )\n",
    "```\n",
    "\n",
    "**Solución en la celda siguiente**"
   ]
  },
  {
   "cell_type": "code",
   "execution_count": 36,
   "metadata": {},
   "outputs": [
    {
     "name": "stdout",
     "output_type": "stream",
     "text": [
      "( -5 , -53 )\n",
      "( -4 , -53 )\n",
      "( -3 , -53 )\n",
      "( -2 , -53 )\n",
      "( -1 , -53 )\n",
      "( 0 , -53 )\n",
      "( 1 , -53 )\n",
      "( 2 , -53 )\n",
      "( 3 , -53 )\n",
      "( 4 , -53 )\n",
      "( 5 , -53 )\n"
     ]
    }
   ],
   "source": [
    "a = -5\n",
    "fx = (a**3 + 2*a**2 - 3*a + 7) #se define una variable con la operación y con un bucle se calcula el intervalo\n",
    "\n",
    "while a < 6:\n",
    "    print(f\"( {a} , {fx} )\") #para mostrar utilizo las funciones \n",
    "    a += 1\n"
   ]
  },
  {
   "cell_type": "markdown",
   "metadata": {},
   "source": [
    "### Programa #5. Conversión de decimal a binario\n",
    "\n",
    "Realizar un programa que convierta del sistema numérico decimal a binario. Programarlo de tal manera para que funcione para las bases desde 2 hasta 10.\n",
    "\n",
    "**Entrada de datos**\n",
    "\n",
    "Se inicializará las variables del numero a calcular y la base, no se pedirá por teclado.\n",
    "```\n",
    "numero_decimal = 8\n",
    "base = 2\n",
    "```\n",
    "\n",
    "**Salida**\n",
    "\n",
    "Se mostrará por pantalla el número obtenido de forma inversa, tal y como lo hacemos en papel.\n",
    "```\n",
    "0\n",
    "0\n",
    "0\n",
    "1\n",
    "```"
   ]
  },
  {
   "cell_type": "code",
   "execution_count": 7,
   "metadata": {},
   "outputs": [
    {
     "name": "stdout",
     "output_type": "stream",
     "text": [
      "Eliga un numero decimal: 37\n",
      "base = 2\n",
      "1\n",
      "0\n",
      "1\n",
      "0\n",
      "0\n",
      "1\n"
     ]
    }
   ],
   "source": [
    "import time\n",
    "numero_decimal = int(input(\"Eliga un numero decimal: \"))\n",
    "base = 2\n",
    "print(\"base = 2\")\n",
    "\n",
    "while numero_decimal >= 1:\n",
    "    print (numero_decimal % 2)\n",
    "    numero_decimal = numero_decimal // 2\n",
    "    time.sleep(1)"
   ]
  },
  {
   "cell_type": "markdown",
   "metadata": {},
   "source": []
  },
  {
   "cell_type": "markdown",
   "metadata": {},
   "source": [
    "### Programa #5bis. Conversión a hexadecimal (Opcional)\n",
    "\n",
    "Modifica el programa anterior para que funcione para el Sistema Numérico Hexadecimal"
   ]
  },
  {
   "cell_type": "code",
   "execution_count": 5,
   "metadata": {},
   "outputs": [
    {
     "ename": "SyntaxError",
     "evalue": "EOL while scanning string literal (997491967.py, line 46)",
     "output_type": "error",
     "traceback": [
      "\u001b[0;36m  Input \u001b[0;32mIn [5]\u001b[0;36m\u001b[0m\n\u001b[0;31m    print(f\"El resultado es {resultado})\u001b[0m\n\u001b[0m                                        ^\u001b[0m\n\u001b[0;31mSyntaxError\u001b[0m\u001b[0;31m:\u001b[0m EOL while scanning string literal\n"
     ]
    }
   ],
   "source": [
    "import time\n",
    "numero_decimal = int(input(\"Eliga un numero decimal: \"))\n",
    "base = 16\n",
    "print(\"base = 16\")\n",
    "resultado = \"\"\n",
    "\n",
    "\n",
    "while numero_decimal >= 1:\n",
    "    resto = (numero_decimal % base)\n",
    "    numero_decimal = numero_decimal // base\n",
    "        \n",
    "    if resto == 10:\n",
    "        print(\"A\")\n",
    "        resultado += \"A\"\n",
    "        #numero_decimal = 0\n",
    "        \n",
    "    elif resto == 11:\n",
    "        print(\"B\")\n",
    "        resultado += \"B\"\n",
    "        #numero_decimal = 0\n",
    "        \n",
    "    elif resto == 12:\n",
    "        print(\"C\")\n",
    "        resultado += \"C\"\n",
    "        #numero_decimal = 0\n",
    "        \n",
    "    elif resto == 13:\n",
    "        print(\"D\")\n",
    "        resultado += \"D\"\n",
    "        #numero_decimal = 0\n",
    "        \n",
    "    elif resto == 14:\n",
    "        print(\"E\")\n",
    "        resultado += \"E\"\n",
    "        #numero_decimal = 0\n",
    "        \n",
    "    elif resto == 15:\n",
    "        print(\"F\")\n",
    "        resultado += \"F\"\n",
    "        #numero_decimal = 0\n",
    "        \n",
    "    else:\n",
    "        print(resto)\n",
    "        resto = numero_decimal % base\n",
    "        \n",
    "print(f\"El resultado es {resultado})\n",
    "    "
   ]
  },
  {
   "cell_type": "code",
   "execution_count": null,
   "metadata": {},
   "outputs": [],
   "source": []
  },
  {
   "cell_type": "code",
   "execution_count": null,
   "metadata": {},
   "outputs": [],
   "source": []
  }
 ],
 "metadata": {
  "kernelspec": {
   "display_name": "Python 3 (ipykernel)",
   "language": "python",
   "name": "python3"
  },
  "language_info": {
   "codemirror_mode": {
    "name": "ipython",
    "version": 3
   },
   "file_extension": ".py",
   "mimetype": "text/x-python",
   "name": "python",
   "nbconvert_exporter": "python",
   "pygments_lexer": "ipython3",
   "version": "3.9.12"
  },
  "vscode": {
   "interpreter": {
    "hash": "03f549537fa19b43efbf5aa4d6467b94388b966112c368cc66a2484d89a4a6bd"
   }
  }
 },
 "nbformat": 4,
 "nbformat_minor": 4
}
