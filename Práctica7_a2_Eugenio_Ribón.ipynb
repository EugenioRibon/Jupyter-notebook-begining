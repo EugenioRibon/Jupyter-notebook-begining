{
 "cells": [
  {
   "cell_type": "code",
   "execution_count": 11,
   "id": "915c4298",
   "metadata": {},
   "outputs": [
    {
     "name": "stdout",
     "output_type": "stream",
     "text": [
      "Número objetivo 8\n",
      "[1, 2, 4, 6, 2, 7, 10, 1, 8, 10, 2, 2, 1, 1, 6, 3, 3, 6, 10, 6]\n",
      "1 + 7 = 8\n",
      "2 + 6 = 8\n",
      "2 + 6 = 8\n",
      "2 + 6 = 8\n",
      "6 + 2 = 8\n",
      "6 + 2 = 8\n",
      "6 + 2 = 8\n",
      "2 + 6 = 8\n",
      "2 + 6 = 8\n",
      "7 + 1 = 8\n",
      "7 + 1 = 8\n",
      "7 + 1 = 8\n",
      "2 + 6 = 8\n",
      "2 + 6 = 8\n",
      "2 + 6 = 8\n",
      "2 + 6 = 8\n"
     ]
    }
   ],
   "source": [
    "import random\n",
    "\n",
    "cont = 0\n",
    "contlist = 0\n",
    "len_lista = 20\n",
    "i = 0\n",
    "lista_numeros = []\n",
    "numero_objetivo = random.randint(1,10)\n",
    "print(f\"Número objetivo {numero_objetivo}\")\n",
    "\n",
    "while contlist < len_lista:\n",
    "    num = random.randint(1,10)\n",
    "    lista_numeros.append(num)\n",
    "    contlist += 1\n",
    "print(lista_numeros)\n",
    "\n",
    "while cont < (len_lista-1):\n",
    "    i = 1 + cont\n",
    "    while i < (len_lista-1):\n",
    "        if lista_numeros[cont] + lista_numeros[i] == numero_objetivo:\n",
    "            print(f\"{lista_numeros[cont]} + {lista_numeros[i]} = {numero_objetivo}\")\n",
    "        i += 1\n",
    "    \n",
    "    cont += 1\n",
    "    "
   ]
  },
  {
   "cell_type": "code",
   "execution_count": null,
   "id": "f56ce42d",
   "metadata": {},
   "outputs": [],
   "source": []
  }
 ],
 "metadata": {
  "kernelspec": {
   "display_name": "Python 3 (ipykernel)",
   "language": "python",
   "name": "python3"
  },
  "language_info": {
   "codemirror_mode": {
    "name": "ipython",
    "version": 3
   },
   "file_extension": ".py",
   "mimetype": "text/x-python",
   "name": "python",
   "nbconvert_exporter": "python",
   "pygments_lexer": "ipython3",
   "version": "3.9.12"
  }
 },
 "nbformat": 4,
 "nbformat_minor": 5
}
