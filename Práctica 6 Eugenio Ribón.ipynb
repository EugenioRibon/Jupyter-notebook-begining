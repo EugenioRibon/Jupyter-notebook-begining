{
 "cells": [
  {
   "cell_type": "code",
   "execution_count": 3,
   "id": "b098a9c5",
   "metadata": {},
   "outputs": [
    {
     "name": "stdout",
     "output_type": "stream",
     "text": [
      "Nombre:eu\n",
      "Cuantas partidas quieres jugar(1,5)3\n",
      "\n",
      "¿[P]iedra, [p]apel o [T]ijera? P\n",
      "USER: P - MÁQUINA: p >>> Pierdes\n",
      "\n",
      "¿[P]iedra, [p]apel o [T]ijera? P\n",
      "USER: P - MÁQUINA: P >>> Empate\n",
      "\n",
      "¿[P]iedra, [p]apel o [T]ijera? p\n",
      "USER: p - MÁQUINA: p >>> Empate\n",
      "\n",
      "¿[P]iedra, [p]apel o [T]ijera? P\n",
      "USER: P - MÁQUINA: T >>> Ganas\n",
      "\n",
      "¿[P]iedra, [p]apel o [T]ijera? p\n",
      "USER: p - MÁQUINA: T >>> Pierdes\n",
      "Resultado Final\n",
      "====================\n",
      "eu 1 - 2 MÁQUINA\n",
      "Empates: 2\n"
     ]
    }
   ],
   "source": [
    "import random\n",
    "\n",
    "running = True\n",
    "nombre = input(\"Nombre:\")\n",
    "cont_jug = 0\n",
    "cont_maq = 0\n",
    "objeto_maq = \"P\"\n",
    "partidas = -1\n",
    "empate = 0\n",
    "    \n",
    "\n",
    "while partidas < 0 or partidas >5:   \n",
    "    partidas = int(input(\"Cuantas partidas quieres jugar(1,5)\"))\n",
    "\n",
    "while running:\n",
    "    objeto_jug = input(\"\\n¿[P]iedra, [p]apel o [T]ijera? \")\n",
    "    objeto = random.randint(1,3)\n",
    "    if objeto == 1:\n",
    "        objeto_maq = \"P\"\n",
    "    \n",
    "    if objeto == 2:\n",
    "        objeto_maq = \"p\"\n",
    "    \n",
    "    if objeto == 3:\n",
    "        objeto_maq = \"T\"\n",
    "        \n",
    "    if objeto_jug == objeto_maq:\n",
    "        resultado = \"Empate\"\n",
    "        print(f\"USER: {objeto_jug} - MÁQUINA: {objeto_maq} >>> {resultado}\")\n",
    "        empate += 1\n",
    "        \n",
    "    if objeto_jug == \"P\" and objeto_maq == \"T\" or objeto_jug == \"p\" and objeto_maq == \"P\" or objeto_jug == \"T\" and objeto_maq == \"p\":\n",
    "        resultado = \"Ganas\"\n",
    "        print(f\"USER: {objeto_jug} - MÁQUINA: {objeto_maq} >>> {resultado}\")\n",
    "        cont_jug += 1\n",
    "            \n",
    "    if objeto_jug == \"T\" and objeto_maq == \"P\" or objeto_jug == \"P\" and objeto_maq == \"p\" or objeto_jug == \"p\" and objeto_maq == \"T\":\n",
    "        resultado = \"Pierdes\"\n",
    "        print(f\"USER: {objeto_jug} - MÁQUINA: {objeto_maq} >>> {resultado}\")\n",
    "        cont_maq += 1\n",
    "            \n",
    "    if cont_maq > (partidas/2) or cont_jug > (partidas/2):\n",
    "        running = False\n",
    "            \n",
    "print(f\"Resultado Final\")  \n",
    "print(\"====================\")\n",
    "print(f\"{nombre} {cont_jug} - {cont_maq} MÁQUINA\")\n",
    "print(f\"Empates: {empate}\")\n",
    "        \n",
    "            \n",
    "        "
   ]
  },
  {
   "cell_type": "code",
   "execution_count": null,
   "id": "c6476673",
   "metadata": {},
   "outputs": [],
   "source": []
  },
  {
   "cell_type": "code",
   "execution_count": null,
   "id": "0cb2774d",
   "metadata": {},
   "outputs": [],
   "source": []
  }
 ],
 "metadata": {
  "kernelspec": {
   "display_name": "Python 3 (ipykernel)",
   "language": "python",
   "name": "python3"
  },
  "language_info": {
   "codemirror_mode": {
    "name": "ipython",
    "version": 3
   },
   "file_extension": ".py",
   "mimetype": "text/x-python",
   "name": "python",
   "nbconvert_exporter": "python",
   "pygments_lexer": "ipython3",
   "version": "3.9.12"
  }
 },
 "nbformat": 4,
 "nbformat_minor": 5
}
