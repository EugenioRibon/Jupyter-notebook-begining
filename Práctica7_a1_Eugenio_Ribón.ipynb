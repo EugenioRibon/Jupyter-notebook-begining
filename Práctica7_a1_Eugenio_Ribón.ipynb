{
 "cells": [
  {
   "cell_type": "code",
   "execution_count": 20,
   "id": "b699885b",
   "metadata": {},
   "outputs": [
    {
     "name": "stdout",
     "output_type": "stream",
     "text": [
      "Número objetivo 7\n",
      "5 + 2 = 7\n",
      "[5, 4, 6, 9, 5, 4, 5, 2, 6, 8, 10, 8, 3, 7, 8, 6, 4, 9, 9, 7]\n"
     ]
    }
   ],
   "source": [
    "import random\n",
    "\n",
    "cont = 0\n",
    "contlist = 0\n",
    "len_lista = 20\n",
    "lista_numeros = []\n",
    "numero_objetivo = random.randint(1,10)\n",
    "print(f\"Número objetivo {numero_objetivo}\")\n",
    "\n",
    "while contlist < len_lista:\n",
    "    num = random.randint(1,10)\n",
    "    lista_numeros.append(num)\n",
    "    contlist += 1\n",
    "\n",
    "while cont < (len_lista-1):\n",
    "    if lista_numeros[cont] + lista_numeros[cont+1] == numero_objetivo:\n",
    "        print(f\"{lista_numeros[cont]} + {lista_numeros[cont+1]} = {numero_objetivo}\")\n",
    "    cont += 1\n",
    "        \n",
    "print(lista_numeros)"
   ]
  },
  {
   "cell_type": "code",
   "execution_count": null,
   "id": "aee84ea3",
   "metadata": {},
   "outputs": [],
   "source": []
  }
 ],
 "metadata": {
  "kernelspec": {
   "display_name": "Python 3 (ipykernel)",
   "language": "python",
   "name": "python3"
  },
  "language_info": {
   "codemirror_mode": {
    "name": "ipython",
    "version": 3
   },
   "file_extension": ".py",
   "mimetype": "text/x-python",
   "name": "python",
   "nbconvert_exporter": "python",
   "pygments_lexer": "ipython3",
   "version": "3.9.12"
  }
 },
 "nbformat": 4,
 "nbformat_minor": 5
}
